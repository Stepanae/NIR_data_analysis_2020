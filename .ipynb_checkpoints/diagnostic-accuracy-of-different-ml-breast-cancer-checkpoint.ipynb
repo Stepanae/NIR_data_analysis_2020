{
 "cells": [
  {
   "cell_type": "markdown",
   "metadata": {},
   "source": [
    "Breast cancer is a disease in which cells in the breast grow out of control. There are different kinds of breast cancer. The kind of breast cancer depends on which cells in the breast turn into cancer.\n",
    "source information: https://www.cdc.gov/cancer/breast/basic_info/what-is-breast-cancer.htm"
   ]
  },
  {
   "cell_type": "markdown",
   "metadata": {},
   "source": [
    "![http://triplesteptowardthecure.org/images/slide1.jpg](http://triplesteptowardthecure.org/images/slide1.jpg)\n",
    "\n",
    "\n",
    "\n",
    "\n",
    "\n",
    "Source Image : http://triplesteptowardthecure.org/understanding.php"
   ]
  },
  {
   "cell_type": "markdown",
   "metadata": {},
   "source": [
    "In this study, we tried to predict Breast Cancer using 6 different algorithm:\n",
    "\n",
    "1. Logistic regression classification\n",
    "2. SVM (Support Vector Machine) classification\n",
    "3. Naive bayes classification\n",
    "4. Decision tree classification\n",
    "5. Random forest classification\n",
    "6. K-Nearest Neighbor classification\n",
    "\n",
    "\n",
    "Predictor variable use in classifying breast cancer, its features are computed for each cell nucleus:\n",
    "1. mean_radius (mean of distances from center to points on the perimeter)\n",
    "2. mean_texture (standard deviation of gray-scale values)\n",
    "3. mean_perimeter \n",
    "4. mean_area  \n",
    "5. mean_smoothness (local variation in radius lengths)\n",
    "\n",
    "Source Attribute Information:https://archive.ics.uci.edu/ml/datasets/Breast+Cancer+Wisconsin+(Diagnostic)\n",
    "\n",
    "We measure the study of 7 different algorithms using a **confusion matrix**. "
   ]
  },
  {
   "cell_type": "markdown",
   "metadata": {},
   "source": [
    "Import Library"
   ]
  },
  {
   "cell_type": "code",
   "execution_count": null,
   "metadata": {
    "_cell_guid": "b1076dfc-b9ad-4769-8c92-a6c4dae69d19",
    "_uuid": "8f2839f25d086af736a60e9eeb907d3b93b6e0e5"
   },
   "outputs": [],
   "source": [
    "import numpy as np \n",
    "import pandas as pd \n",
    "import matplotlib.pyplot as plt\n",
    "import seaborn as sns\n",
    "\n",
    "from sklearn import preprocessing\n",
    "from sklearn.preprocessing import MinMaxScaler"
   ]
  },
  {
   "cell_type": "markdown",
   "metadata": {},
   "source": [
    "## Data\n",
    "\n"
   ]
  },
  {
   "cell_type": "code",
   "execution_count": null,
   "metadata": {},
   "outputs": [],
   "source": [
    "data = pd.read_csv('../input/breast-cancer-prediction-dataset/Breast_cancer_data.csv')\n",
    "print('Dataset :',data.shape)\n",
    "x = data.iloc[:, [0, 1, 2, 3]].values\n",
    "data.info()\n",
    "data[0:10]"
   ]
  },
  {
   "cell_type": "markdown",
   "metadata": {},
   "source": [
    "**Distribution of diagnosis\n",
    "357 benign, 212 malignant**"
   ]
  },
  {
   "cell_type": "code",
   "execution_count": null,
   "metadata": {},
   "outputs": [],
   "source": [
    "data.diagnosis.value_counts()[0:30].plot(kind='bar')\n",
    "plt.show()"
   ]
  },
  {
   "cell_type": "markdown",
   "metadata": {},
   "source": [
    "**VISUALIZING THE DATA\n",
    "**"
   ]
  },
  {
   "cell_type": "code",
   "execution_count": null,
   "metadata": {},
   "outputs": [],
   "source": [
    "data = data[['mean_radius','mean_texture','mean_perimeter','mean_area', 'mean_smoothness','diagnosis']] #Subsetting the data\n",
    "cor = data.corr() #Calculate the correlation of the above variables\n",
    "sns.heatmap(cor, square = True) #Plot the correlation as heat map"
   ]
  },
  {
   "cell_type": "markdown",
   "metadata": {},
   "source": [
    "As you can see above, we obtain the heatmap of correlation among the variables. The color palette in the side represents the amount of correlation among the variables. The lighter shade represents a high correlation."
   ]
  },
  {
   "cell_type": "code",
   "execution_count": null,
   "metadata": {},
   "outputs": [],
   "source": [
    "sns.set_style(\"ticks\")\n",
    "sns.pairplot(data,hue=\"diagnosis\",size=3);\n",
    "plt.show()"
   ]
  },
  {
   "cell_type": "markdown",
   "metadata": {},
   "source": [
    "Data for training and testing\n",
    "To select a set of training data that will be input in the Machine Learning algorithm, to ensure that the classification algorithm training can be generalized well to new data. For this study using a sample size of 20%, assumed it ideal ratio between training and testing"
   ]
  },
  {
   "cell_type": "code",
   "execution_count": null,
   "metadata": {},
   "outputs": [],
   "source": [
    "from sklearn.model_selection import train_test_split\n",
    "Y = data['diagnosis']\n",
    "X = data.drop(columns=['diagnosis'])\n",
    "X_train, X_test, Y_train, Y_test = train_test_split(X, Y, test_size=0.2, random_state=9)"
   ]
  },
  {
   "cell_type": "code",
   "execution_count": null,
   "metadata": {},
   "outputs": [],
   "source": [
    "print('X train shape: ', X_train.shape)\n",
    "print('Y train shape: ', Y_train.shape)\n",
    "print('X test shape: ', X_test.shape)\n",
    "print('Y test shape: ', Y_test.shape)"
   ]
  },
  {
   "cell_type": "markdown",
   "metadata": {},
   "source": [
    "## 1. Logistic regression classification\n",
    "\n",
    "Logistic regression is a technique that can be applied to binary classification problems. This technique uses the logistic function or sigmoid function, which is an S-shaped curve that can assume any real value number and assign it to a value between 0 and 1, but never exactly in those limits. Thus, logistic regression models the probability of the default class (the probability that an input $(X)$ belongs to the default class $(Y=1)$) $(P(X)=P(Y=1|X))$. In order to make the prediction of the probability, the logistic function is used, which allows us to obtain the log-odds or the probit. Thus, the model is a linear combination of the inputs, but that this linear combination relates to the log-odds of the default class.\n",
    "\n",
    "Started from make an instance of the model setting the default values. Specify the inverse of the regularization strength in 10. Trained the logistic regression model with the training data, and then applied such model to the test data."
   ]
  },
  {
   "cell_type": "code",
   "execution_count": null,
   "metadata": {},
   "outputs": [],
   "source": [
    "from sklearn.linear_model import LogisticRegression\n",
    "\n",
    "# We defining the model\n",
    "logreg = LogisticRegression(C=10)\n",
    "\n",
    "# We train the model\n",
    "logreg.fit(X_train, Y_train)\n",
    "\n",
    "# We predict target values\n",
    "Y_predict1 = logreg.predict(X_test)"
   ]
  },
  {
   "cell_type": "code",
   "execution_count": null,
   "metadata": {},
   "outputs": [],
   "source": [
    "# The confusion matrix\n",
    "from sklearn.metrics import confusion_matrix\n",
    "import seaborn as sns\n",
    "\n",
    "logreg_cm = confusion_matrix(Y_test, Y_predict1)\n",
    "f, ax = plt.subplots(figsize=(5,5))\n",
    "sns.heatmap(logreg_cm, annot=True, linewidth=0.7, linecolor='red', fmt='g', ax=ax, cmap=\"BuPu\")\n",
    "plt.title('Logistic Regression Classification Confusion Matrix')\n",
    "plt.xlabel('Y predict')\n",
    "plt.ylabel('Y test')\n",
    "plt.show()"
   ]
  },
  {
   "cell_type": "code",
   "execution_count": null,
   "metadata": {},
   "outputs": [],
   "source": [
    "# Test score\n",
    "score_logreg = logreg.score(X_test, Y_test)\n",
    "print(score_logreg)"
   ]
  },
  {
   "cell_type": "code",
   "execution_count": null,
   "metadata": {},
   "outputs": [],
   "source": [
    "#precision and recall\n",
    "from sklearn.metrics import average_precision_score\n",
    "average_precision = average_precision_score(Y_test, Y_predict1)\n",
    "\n",
    "print('Average precision-recall score: {0:0.2f}'.format(\n",
    "      average_precision))"
   ]
  },
  {
   "cell_type": "markdown",
   "metadata": {},
   "source": [
    "## 2. SVM (Support Vector Machine) classification\n",
    "\n",
    "SVMs (Support Vector Machine) have shown a rapid proliferation during the last years. The learning problem setting for SVMs corresponds to a some unknown and nonlinear dependency (mapping, function) $y = f(x)$ between some high-dimensional input vector $x$ and scalar output $y$. It is noteworthy that there is no information on the joint probability functions, therefore, a free distribution learning must be carried out. The only information available is a training data set $D = {(x_i, y_i) ∈ X×Y }, i = 1$, $l$, where $l$ stands for the number of the training data pairs and is therefore equal to the size of the training data set $D$, additionally, $y_i$ is denoted as $d_i$, where $d$ stands for a desired (target) value. Hence, SVMs belong to the supervised learning techniques.\n",
    "\n",
    "From the classification approach, the goal of SVM is to find a hyperplane in an N-dimensional space that clearly classifies the data points. Thus hyperplanes are decision boundaries that help classify the data points. Data points falling on either side of the hyperplane can be attributed to different classes.\n",
    "\n",
    "\n",
    "\n"
   ]
  },
  {
   "cell_type": "code",
   "execution_count": null,
   "metadata": {},
   "outputs": [],
   "source": [
    "from sklearn.ensemble import BaggingClassifier\n",
    "from sklearn.multiclass import OneVsRestClassifier\n",
    "from sklearn.svm import SVC\n",
    "\n",
    "# We define the SVM model\n",
    "svmcla = OneVsRestClassifier(BaggingClassifier(SVC(C=10,kernel='rbf',random_state=9, probability=True), \n",
    "                                               n_jobs=-1))\n",
    "\n",
    "# We train model\n",
    "svmcla.fit(X_train, Y_train)\n",
    "\n",
    "# We predict target values\n",
    "Y_predict2 = svmcla.predict(X_test)"
   ]
  },
  {
   "cell_type": "code",
   "execution_count": null,
   "metadata": {},
   "outputs": [],
   "source": [
    "# The confusion matrix\n",
    "svmcla_cm = confusion_matrix(Y_test, Y_predict2)\n",
    "f, ax = plt.subplots(figsize=(5,5))\n",
    "sns.heatmap(svmcla_cm, annot=True, linewidth=0.7, linecolor='red', fmt='g', ax=ax, cmap=\"BuPu\")\n",
    "plt.title('SVM Classification Confusion Matrix')\n",
    "plt.xlabel('Y predict')\n",
    "plt.ylabel('Y test')\n",
    "plt.show()"
   ]
  },
  {
   "cell_type": "code",
   "execution_count": null,
   "metadata": {},
   "outputs": [],
   "source": [
    "# Test score\n",
    "score_svmcla = svmcla.score(X_test, Y_test)\n",
    "print(score_svmcla)"
   ]
  },
  {
   "cell_type": "code",
   "execution_count": null,
   "metadata": {},
   "outputs": [],
   "source": [
    "#precision and recall\n",
    "from sklearn.metrics import average_precision_score\n",
    "average_precision = average_precision_score(Y_test, Y_predict2)\n",
    "\n",
    "print('Average precision-recall score: {0:0.2f}'.format(\n",
    "      average_precision))"
   ]
  },
  {
   "cell_type": "markdown",
   "metadata": {},
   "source": [
    "## 3. Naive bayes classification\n",
    "\n",
    "The naive Bayesian classifier is a probabilistic classifier based on Bayes' theorem with strong independence assumptions between the features. Thus, using Bayes theorem $\\left(P(X|Y)=\\frac{P(Y|X)P(X)}{P(Y)}\\right)$, we can find the probability of $X$ happening, given that $Y$ has occurred. Here, $Y$ is the evidence and $X$ is the hypothesis. The assumption made here is that the presence of one particular feature does not affect the other (the predictors/features are independent). Hence it is called naive. In this case we will assume that we assume the values are sampled from a Gaussian distribution and therefore we consider a Gaussian Naive Bayes."
   ]
  },
  {
   "cell_type": "code",
   "execution_count": null,
   "metadata": {},
   "outputs": [],
   "source": [
    "from sklearn.naive_bayes import GaussianNB\n",
    "\n",
    "# We define the model\n",
    "nbcla = GaussianNB()\n",
    "\n",
    "# We train model\n",
    "nbcla.fit(X_train, Y_train)\n",
    "\n",
    "# We predict target values\n",
    "Y_predict3 = nbcla.predict(X_test)"
   ]
  },
  {
   "cell_type": "code",
   "execution_count": null,
   "metadata": {},
   "outputs": [],
   "source": [
    "# The confusion matrix\n",
    "nbcla_cm = confusion_matrix(Y_test, Y_predict3)\n",
    "f, ax = plt.subplots(figsize=(5,5))\n",
    "sns.heatmap(nbcla_cm, annot=True, linewidth=0.7, linecolor='red', fmt='g', ax=ax, cmap=\"BuPu\")\n",
    "plt.title('Naive Bayes Classification Confusion Matrix')\n",
    "plt.xlabel('Y predict')\n",
    "plt.ylabel('Y test')\n",
    "plt.show()"
   ]
  },
  {
   "cell_type": "code",
   "execution_count": null,
   "metadata": {},
   "outputs": [],
   "source": [
    "# Test score\n",
    "score_nbcla = nbcla.score(X_test, Y_test)\n",
    "print(score_nbcla)"
   ]
  },
  {
   "cell_type": "code",
   "execution_count": null,
   "metadata": {},
   "outputs": [],
   "source": [
    "#precision and recall\n",
    "from sklearn.metrics import average_precision_score\n",
    "average_precision = average_precision_score(Y_test, Y_predict3)\n",
    "\n",
    "print('Average precision-recall score: {0:0.2f}'.format(\n",
    "      average_precision))"
   ]
  },
  {
   "cell_type": "markdown",
   "metadata": {},
   "source": [
    "## 4. Decision tree classification\n",
    "\n",
    "A decision tree is a flowchart-like tree structure where an internal node represents feature, the branch represents a decision rule, and each leaf node represents the outcome. The decision tree analyzes a set of data to construct a set of rules or questions, which are used to predict a class, i.e., the goal of decision tree is to create a model that predicts the value of a target variable by learning simple decision rules inferred from the data features. In this sense the decision tree selects the best attribute using to divide the records, converting that attribute into a decision node and dividing the data set into smaller subsets, to finally start the construction of the tree repeating this process recursively. "
   ]
  },
  {
   "cell_type": "code",
   "execution_count": null,
   "metadata": {},
   "outputs": [],
   "source": [
    "from sklearn.tree import DecisionTreeClassifier\n",
    "\n",
    "# We define the model\n",
    "dtcla = DecisionTreeClassifier(random_state=9)\n",
    "\n",
    "# We train model\n",
    "dtcla.fit(X_train, Y_train)\n",
    "\n",
    "# We predict target values\n",
    "Y_predict4 = dtcla.predict(X_test)"
   ]
  },
  {
   "cell_type": "code",
   "execution_count": null,
   "metadata": {},
   "outputs": [],
   "source": [
    "# The confusion matrix\n",
    "dtcla_cm = confusion_matrix(Y_test, Y_predict4)\n",
    "f, ax = plt.subplots(figsize=(5,5))\n",
    "sns.heatmap(dtcla_cm, annot=True, linewidth=0.7, linecolor='red', fmt='g', ax=ax, cmap=\"BuPu\")\n",
    "plt.title('Decision Tree Classification Confusion Matrix')\n",
    "plt.xlabel('Y predict')\n",
    "plt.ylabel('Y test')\n",
    "plt.show()"
   ]
  },
  {
   "cell_type": "code",
   "execution_count": null,
   "metadata": {},
   "outputs": [],
   "source": [
    "# Test score\n",
    "score_dtcla = dtcla.score(X_test, Y_test)\n",
    "print(score_dtcla)"
   ]
  },
  {
   "cell_type": "code",
   "execution_count": null,
   "metadata": {},
   "outputs": [],
   "source": [
    "#precision and recall\n",
    "from sklearn.metrics import average_precision_score\n",
    "average_precision = average_precision_score(Y_test, Y_predict4)\n",
    "\n",
    "print('Average precision-recall score: {0:0.2f}'.format(\n",
    "      average_precision))"
   ]
  },
  {
   "cell_type": "markdown",
   "metadata": {},
   "source": [
    "## 5. Random forest classification\n",
    "\n",
    "Based on the previous classification method, random forest is a supervised learning algorithm that creates a forest randomly. This forest, is a set of decision trees, most of the times trained with the bagging method. The essential idea of bagging is to average many noisy but approximately impartial models, and therefore reduce the variation. Each tree is constructed using the following algorithm:\n",
    "\n",
    "* Let $N$ be the number of test cases, $M$ is the number of variables in the classifier.\n",
    "* Let $m$ be the number of input variables to be used to determine the decision in a given node; $m<M$.\n",
    "* Choose a training set for this tree and use the rest of the test cases to estimate the error.\n",
    "* For each node of the tree, randomly choose $m$ variables on which to base the decision. Calculate the best partition of the training set from the $m$ variables.\n",
    "\n",
    "For prediction a new case is pushed down the tree. Then it is assigned the label of the terminal node where it ends. This process is iterated by all the trees in the assembly, and the label that gets the most incidents is reported as the prediction. We define the number of trees in the forest in 100. "
   ]
  },
  {
   "cell_type": "code",
   "execution_count": null,
   "metadata": {},
   "outputs": [],
   "source": [
    "from sklearn.ensemble import RandomForestClassifier\n",
    "\n",
    "# We define the model\n",
    "rfcla = RandomForestClassifier(n_estimators=100,random_state=9,n_jobs=-1)\n",
    "\n",
    "# We train model\n",
    "rfcla.fit(X_train, Y_train)\n",
    "\n",
    "# We predict target values\n",
    "Y_predict5 = rfcla.predict(X_test)"
   ]
  },
  {
   "cell_type": "code",
   "execution_count": null,
   "metadata": {},
   "outputs": [],
   "source": [
    "# The confusion matrix\n",
    "rfcla_cm = confusion_matrix(Y_test, Y_predict5)\n",
    "f, ax = plt.subplots(figsize=(5,5))\n",
    "sns.heatmap(rfcla_cm, annot=True, linewidth=0.7, linecolor='red', fmt='g', ax=ax, cmap=\"BuPu\")\n",
    "plt.title('Random Forest Classification Confusion Matrix')\n",
    "plt.xlabel('Y predict')\n",
    "plt.ylabel('Y test')\n",
    "plt.show()"
   ]
  },
  {
   "cell_type": "code",
   "execution_count": null,
   "metadata": {},
   "outputs": [],
   "source": [
    "# Test score\n",
    "score_rfcla = rfcla.score(X_test, Y_test)\n",
    "print(score_rfcla)"
   ]
  },
  {
   "cell_type": "code",
   "execution_count": null,
   "metadata": {},
   "outputs": [],
   "source": [
    "#precision and recall\n",
    "from sklearn.metrics import average_precision_score\n",
    "average_precision = average_precision_score(Y_test, Y_predict5)\n",
    "\n",
    "print('Average precision-recall score: {0:0.2f}'.format(\n",
    "      average_precision))"
   ]
  },
  {
   "cell_type": "markdown",
   "metadata": {},
   "source": [
    "## 6. K-Nearest Neighbor classification\n",
    "\n",
    "K-Nearest neighbors is a technique that stores all available cases and **classifies new cases based on a similarity measure (e.g., distance functions)**. This technique is non-parametric since there are no assumptions for the distribution of underlying data and it is lazy since it does not need any training data point model generation. All the training data used in the test phase. **This makes the training faster and the test phase slower and more costlier. In this technique, the number of neighbors k is usually an odd number if the number of classes is 2**. For finding closest similar points,  find the distance between points using distance measures such as Euclidean distance, Hamming distance, Manhattan distance and Minkowski distance.\n",
    "\n"
   ]
  },
  {
   "cell_type": "code",
   "execution_count": null,
   "metadata": {},
   "outputs": [],
   "source": [
    "from sklearn.neighbors import KNeighborsClassifier\n",
    "\n",
    "# We define the model\n",
    "knncla = KNeighborsClassifier(n_neighbors=5,n_jobs=-1)\n",
    "\n",
    "# We train model\n",
    "knncla.fit(X_train, Y_train)\n",
    "\n",
    "# We predict target values\n",
    "Y_predict6 = knncla.predict(X_test)"
   ]
  },
  {
   "cell_type": "code",
   "execution_count": null,
   "metadata": {},
   "outputs": [],
   "source": [
    "# The confusion matrix\n",
    "knncla_cm = confusion_matrix(Y_test, Y_predict6)\n",
    "f, ax = plt.subplots(figsize=(5,5))\n",
    "sns.heatmap(knncla_cm, annot=True, linewidth=0.7, linecolor='red', fmt='g', ax=ax, cmap=\"BuPu\")\n",
    "plt.title('KNN Classification Confusion Matrix')\n",
    "plt.xlabel('Y predict')\n",
    "plt.ylabel('Y test')\n",
    "plt.show()"
   ]
  },
  {
   "cell_type": "code",
   "execution_count": null,
   "metadata": {},
   "outputs": [],
   "source": [
    "# Test score\n",
    "score_knncla= knncla.score(X_test, Y_test)\n",
    "print(score_knncla)"
   ]
  },
  {
   "cell_type": "code",
   "execution_count": null,
   "metadata": {},
   "outputs": [],
   "source": [
    "#precision and recall\n",
    "from sklearn.metrics import average_precision_score\n",
    "average_precision = average_precision_score(Y_test, Y_predict6)\n",
    "\n",
    "print('Average precision-recall score: {0:0.2f}'.format(\n",
    "      average_precision))"
   ]
  },
  {
   "cell_type": "markdown",
   "metadata": {},
   "source": [
    "# Comparison of classification techniques"
   ]
  },
  {
   "cell_type": "markdown",
   "metadata": {},
   "source": [
    "### Test score"
   ]
  },
  {
   "cell_type": "code",
   "execution_count": null,
   "metadata": {},
   "outputs": [],
   "source": [
    "Testscores = pd.Series([score_logreg, score_svmcla, score_nbcla, score_dtcla, score_rfcla, score_knncla], \n",
    "                        index=['Logistic Regression Score', 'Support Vector Machine Score', 'Naive Bayes Score', 'Decision Tree Score', 'Random Forest Score', 'K-Nearest Neighbour Score']) \n",
    "print(Testscores)"
   ]
  },
  {
   "cell_type": "markdown",
   "metadata": {},
   "source": [
    "### The confusion matrix\n",
    "Confusion matrix is a specific table layout that allows visualization of the performance of an algorithm, typically a supervised learning one."
   ]
  },
  {
   "cell_type": "code",
   "execution_count": null,
   "metadata": {},
   "outputs": [],
   "source": [
    "fig = plt.figure(figsize=(15,15))\n",
    "ax1 = fig.add_subplot(3, 3, 1) \n",
    "ax1.set_title('Logistic Regression Classification') \n",
    "ax2 = fig.add_subplot(3, 3, 2) \n",
    "ax2.set_title('SVM Classification')\n",
    "ax3 = fig.add_subplot(3, 3, 3)\n",
    "ax3.set_title('Naive Bayes Classification')\n",
    "ax4 = fig.add_subplot(3, 3, 4)\n",
    "ax4.set_title('Decision Tree Classification')\n",
    "ax5 = fig.add_subplot(3, 3, 5)\n",
    "ax5.set_title('Random Forest Classification')\n",
    "ax6 = fig.add_subplot(3, 3, 6)\n",
    "ax6.set_title('KNN Classification')\n",
    "sns.heatmap(data=logreg_cm, annot=True, linewidth=0.7, linecolor='red',cmap=\"BuPu\" ,fmt='g', ax=ax1)\n",
    "sns.heatmap(data=svmcla_cm, annot=True, linewidth=0.7, linecolor='red',cmap=\"BuPu\" ,fmt='g', ax=ax2)  \n",
    "sns.heatmap(data=nbcla_cm, annot=True, linewidth=0.7, linecolor='red',cmap=\"BuPu\" ,fmt='g', ax=ax3)\n",
    "sns.heatmap(data=dtcla_cm, annot=True, linewidth=0.7, linecolor='red',cmap=\"BuPu\" ,fmt='g', ax=ax4)\n",
    "sns.heatmap(data=rfcla_cm, annot=True, linewidth=0.7, linecolor='red',cmap=\"BuPu\" ,fmt='g', ax=ax5)\n",
    "sns.heatmap(data=knncla_cm, annot=True, linewidth=0.7, linecolor='red',cmap=\"BuPu\" ,fmt='g', ax=ax6)\n",
    "plt.show()"
   ]
  },
  {
   "cell_type": "markdown",
   "metadata": {},
   "source": [
    "As you can see above, a Comparison of classification techniques, we can evaluate that here Logistic Regression Classification and Random Forest have the most optimal result of the accuracy."
   ]
  },
  {
   "cell_type": "markdown",
   "metadata": {},
   "source": [
    "### ROC curve"
   ]
  },
  {
   "cell_type": "markdown",
   "metadata": {},
   "source": [
    "From a Comparison of classification techniques, we plotting ROC to illustrates the diagnostic ability of a binary classifier system as its discrimination threshold is varied."
   ]
  },
  {
   "cell_type": "code",
   "execution_count": null,
   "metadata": {},
   "outputs": [],
   "source": [
    "from sklearn.metrics import roc_curve\n",
    "\n",
    "# Logistic Regression Classification\n",
    "Y_predict1_proba = logreg.predict_proba(X_test)\n",
    "Y_predict1_proba = Y_predict1_proba[:, 1]\n",
    "fpr, tpr, thresholds = roc_curve(Y_test, Y_predict1_proba)\n",
    "plt.subplot(331)\n",
    "plt.plot([0,1],[0,1],'k--')\n",
    "plt.plot(fpr,tpr, label='ANN')\n",
    "plt.xlabel('fpr')\n",
    "plt.ylabel('tpr')\n",
    "plt.title('ROC Curve Logistic Regression')\n",
    "plt.grid(True)\n",
    "\n",
    "# SVM Classification\n",
    "Y_predict2_proba = svmcla.predict_proba(X_test)\n",
    "Y_predict2_proba = Y_predict2_proba[:, 1]\n",
    "fpr, tpr, thresholds = roc_curve(Y_test, Y_predict2_proba)\n",
    "plt.subplot(332)\n",
    "plt.plot([0,1],[0,1],'k--')\n",
    "plt.plot(fpr,tpr, label='ANN')\n",
    "plt.xlabel('fpr')\n",
    "plt.ylabel('tpr')\n",
    "plt.title('ROC Curve SVM')\n",
    "plt.grid(True)\n",
    "\n",
    "# Naive Bayes Classification\n",
    "Y_predict3_proba = nbcla.predict_proba(X_test)\n",
    "Y_predict3_proba = Y_predict3_proba[:, 1]\n",
    "fpr, tpr, thresholds = roc_curve(Y_test, Y_predict3_proba)\n",
    "plt.subplot(333)\n",
    "plt.plot([0,1],[0,1],'k--')\n",
    "plt.plot(fpr,tpr, label='ANN')\n",
    "plt.xlabel('fpr')\n",
    "plt.ylabel('tpr')\n",
    "plt.title('ROC Curve Naive Bayes')\n",
    "plt.grid(True)\n",
    "\n",
    "# Decision Tree Classification\n",
    "Y_predict4_proba = dtcla.predict_proba(X_test)\n",
    "Y_predict4_proba = Y_predict4_proba[:, 1]\n",
    "fpr, tpr, thresholds = roc_curve(Y_test, Y_predict4_proba)\n",
    "plt.subplot(334)\n",
    "plt.plot([0,1],[0,1],'k--')\n",
    "plt.plot(fpr,tpr, label='ANN')\n",
    "plt.xlabel('fpr')\n",
    "plt.ylabel('tpr')\n",
    "plt.title('ROC Curve Decision Tree')\n",
    "plt.grid(True)\n",
    "\n",
    "# Random Forest Classification\n",
    "Y_predict5_proba = rfcla.predict_proba(X_test)\n",
    "Y_predict5_proba = Y_predict5_proba[:, 1]\n",
    "fpr, tpr, thresholds = roc_curve(Y_test, Y_predict5_proba)\n",
    "plt.subplot(335)\n",
    "plt.plot([0,1],[0,1],'k--')\n",
    "plt.plot(fpr,tpr, label='ANN')\n",
    "plt.xlabel('fpr')\n",
    "plt.ylabel('tpr')\n",
    "plt.title('ROC Curve Random Forest')\n",
    "plt.grid(True)\n",
    "\n",
    "# KNN Classification\n",
    "Y_predict6_proba = knncla.predict_proba(X_test)\n",
    "Y_predict6_proba = Y_predict6_proba[:, 1]\n",
    "fpr, tpr, thresholds = roc_curve(Y_test, Y_predict6_proba)\n",
    "plt.subplot(336)\n",
    "plt.plot([0,1],[0,1],'k--')\n",
    "plt.plot(fpr,tpr, label='ANN')\n",
    "plt.xlabel('fpr')\n",
    "plt.ylabel('tpr')\n",
    "plt.title('ROC Curve KNN')\n",
    "plt.grid(True)\n",
    "plt.subplots_adjust(top=2, bottom=0.08, left=0.10, right=1.4, hspace=0.45, wspace=0.45)\n",
    "plt.show()"
   ]
  }
 ],
 "metadata": {
  "kernelspec": {
   "display_name": "Python 3",
   "language": "python",
   "name": "python3"
  },
  "language_info": {
   "codemirror_mode": {
    "name": "ipython",
    "version": 3
   },
   "file_extension": ".py",
   "mimetype": "text/x-python",
   "name": "python",
   "nbconvert_exporter": "python",
   "pygments_lexer": "ipython3",
   "version": "3.6.4"
  }
 },
 "nbformat": 4,
 "nbformat_minor": 4
}
